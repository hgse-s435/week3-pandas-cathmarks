{
 "cells": [
  {
   "cell_type": "markdown",
   "metadata": {},
   "source": [
    "# Logistics"
   ]
  },
  {
   "cell_type": "markdown",
   "metadata": {},
   "source": [
    "* If you feel lost while working on this notebook (in class or outside or class), don't hesitate to post questions here: https://piazza.com/class/jrzeap5kpirw"
   ]
  },
  {
   "cell_type": "markdown",
   "metadata": {
    "ExecuteTime": {
     "end_time": "2019-02-11T14:46:03.631443Z",
     "start_time": "2019-02-11T14:46:03.134999Z"
    }
   },
   "source": [
    "# Description of the dataset"
   ]
  },
  {
   "cell_type": "markdown",
   "metadata": {},
   "source": [
    "The file \"Bertrand-physiodata.csv\" was captured using the Empatica E4 wristband when Bertrand was teaching a class last Fall. The E4 collects information about a person's heart rate, electrodermal actibity, movements and temperature:\n",
    "\n",
    "![title](https://support.empatica.com/hc/article_attachments/360000797783/e4_specs.jpg)"
   ]
  },
  {
   "cell_type": "markdown",
   "metadata": {},
   "source": [
    "the csv file contains the following columns:\n",
    "* **tags**: users can tag events by pressing a button on the wristband\n",
    "* **real time**: time of the data collection\n",
    "* **unix time**: number of seconds since 00:00:00 Thursday, 1 January 1970\n",
    "* **BVP**: Blood volume pressure (used to compute HR data)\n",
    "* **HR**: Heart rate data\n",
    "* **EDA**: Electrodermal activity (i.e., physiological arousal)\n",
    "* **TEMP**: temperature of the skin\n",
    "* **ACC_x**: accelerometer data on the x axis\n",
    "* **ACC_y**: accelerometer data on the y axis\n",
    "* **ACC_z**: accelerometer data on the z axis"
   ]
  },
  {
   "cell_type": "markdown",
   "metadata": {},
   "source": [
    "Today we are going to explore Bertrand's physiological response to teaching! :) more specifically, we are going to explore the relationship between heart rate and electrodermal activity. "
   ]
  },
  {
   "cell_type": "markdown",
   "metadata": {},
   "source": [
    "# Panda Review"
   ]
  },
  {
   "cell_type": "markdown",
   "metadata": {},
   "source": [
    "Concepts: \n",
    "* head, tail, info, values\n",
    "* zip, dict, pd.DataFrame\n",
    "* df.columns\n",
    "* read_csv, delimiter, header, index\n",
    "\n"
   ]
  },
  {
   "cell_type": "code",
   "execution_count": 1,
   "metadata": {},
   "outputs": [],
   "source": [
    "# 1) import the pandas library as pd\n",
    "import pandas as pd"
   ]
  },
  {
   "cell_type": "code",
   "execution_count": 2,
   "metadata": {},
   "outputs": [],
   "source": [
    "# 2) import the csv file into a variable called df\n",
    "df = pd.read_csv('Bertrand-physiodata.csv')"
   ]
  },
  {
   "cell_type": "code",
   "execution_count": 3,
   "metadata": {},
   "outputs": [
    {
     "name": "stdout",
     "output_type": "stream",
     "text": [
      "<class 'pandas.core.frame.DataFrame'>\n",
      "RangeIndex: 333876 entries, 0 to 333875\n",
      "Data columns (total 10 columns):\n",
      "tags         333875 non-null float64\n",
      "real time    333575 non-null object\n",
      "unix time    333875 non-null float64\n",
      "BVP          333575 non-null float64\n",
      "HR           5203 non-null float64\n",
      "EDA          20849 non-null float64\n",
      "TEMP         20848 non-null float64\n",
      "ACC_x        166788 non-null float64\n",
      "ACC_y        166788 non-null float64\n",
      "ACC_z        166788 non-null float64\n",
      "dtypes: float64(9), object(1)\n",
      "memory usage: 25.5+ MB\n"
     ]
    }
   ],
   "source": [
    "# 3) print the column names, just to make \n",
    "# sure that it matches what we have above\n",
    "df.info()"
   ]
  },
  {
   "cell_type": "code",
   "execution_count": 4,
   "metadata": {},
   "outputs": [
    {
     "data": {
      "text/html": [
       "<div>\n",
       "<style scoped>\n",
       "    .dataframe tbody tr th:only-of-type {\n",
       "        vertical-align: middle;\n",
       "    }\n",
       "\n",
       "    .dataframe tbody tr th {\n",
       "        vertical-align: top;\n",
       "    }\n",
       "\n",
       "    .dataframe thead th {\n",
       "        text-align: right;\n",
       "    }\n",
       "</style>\n",
       "<table border=\"1\" class=\"dataframe\">\n",
       "  <thead>\n",
       "    <tr style=\"text-align: right;\">\n",
       "      <th></th>\n",
       "      <th>tags</th>\n",
       "      <th>real time</th>\n",
       "      <th>unix time</th>\n",
       "      <th>BVP</th>\n",
       "      <th>HR</th>\n",
       "      <th>EDA</th>\n",
       "      <th>TEMP</th>\n",
       "      <th>ACC_x</th>\n",
       "      <th>ACC_y</th>\n",
       "      <th>ACC_z</th>\n",
       "    </tr>\n",
       "  </thead>\n",
       "  <tbody>\n",
       "    <tr>\n",
       "      <th>0</th>\n",
       "      <td>0.0</td>\n",
       "      <td>9/11/18 08:28</td>\n",
       "      <td>1.536669e+09</td>\n",
       "      <td>0.0</td>\n",
       "      <td>NaN</td>\n",
       "      <td>0.0</td>\n",
       "      <td>33.31</td>\n",
       "      <td>-50.0</td>\n",
       "      <td>7.0</td>\n",
       "      <td>28.0</td>\n",
       "    </tr>\n",
       "    <tr>\n",
       "      <th>1</th>\n",
       "      <td>0.0</td>\n",
       "      <td>9/11/18 08:28</td>\n",
       "      <td>1.536669e+09</td>\n",
       "      <td>0.0</td>\n",
       "      <td>NaN</td>\n",
       "      <td>NaN</td>\n",
       "      <td>NaN</td>\n",
       "      <td>NaN</td>\n",
       "      <td>NaN</td>\n",
       "      <td>NaN</td>\n",
       "    </tr>\n",
       "    <tr>\n",
       "      <th>2</th>\n",
       "      <td>0.0</td>\n",
       "      <td>9/11/18 08:28</td>\n",
       "      <td>1.536669e+09</td>\n",
       "      <td>0.0</td>\n",
       "      <td>NaN</td>\n",
       "      <td>NaN</td>\n",
       "      <td>NaN</td>\n",
       "      <td>-41.0</td>\n",
       "      <td>6.0</td>\n",
       "      <td>28.0</td>\n",
       "    </tr>\n",
       "    <tr>\n",
       "      <th>3</th>\n",
       "      <td>0.0</td>\n",
       "      <td>9/11/18 08:28</td>\n",
       "      <td>1.536669e+09</td>\n",
       "      <td>0.0</td>\n",
       "      <td>NaN</td>\n",
       "      <td>NaN</td>\n",
       "      <td>NaN</td>\n",
       "      <td>NaN</td>\n",
       "      <td>NaN</td>\n",
       "      <td>NaN</td>\n",
       "    </tr>\n",
       "    <tr>\n",
       "      <th>4</th>\n",
       "      <td>0.0</td>\n",
       "      <td>9/11/18 08:28</td>\n",
       "      <td>1.536669e+09</td>\n",
       "      <td>0.0</td>\n",
       "      <td>NaN</td>\n",
       "      <td>NaN</td>\n",
       "      <td>NaN</td>\n",
       "      <td>-40.0</td>\n",
       "      <td>7.0</td>\n",
       "      <td>25.0</td>\n",
       "    </tr>\n",
       "  </tbody>\n",
       "</table>\n",
       "</div>"
      ],
      "text/plain": [
       "   tags      real time     unix time  BVP  HR  EDA   TEMP  ACC_x  ACC_y  ACC_z\n",
       "0   0.0  9/11/18 08:28  1.536669e+09  0.0 NaN  0.0  33.31  -50.0    7.0   28.0\n",
       "1   0.0  9/11/18 08:28  1.536669e+09  0.0 NaN  NaN    NaN    NaN    NaN    NaN\n",
       "2   0.0  9/11/18 08:28  1.536669e+09  0.0 NaN  NaN    NaN  -41.0    6.0   28.0\n",
       "3   0.0  9/11/18 08:28  1.536669e+09  0.0 NaN  NaN    NaN    NaN    NaN    NaN\n",
       "4   0.0  9/11/18 08:28  1.536669e+09  0.0 NaN  NaN    NaN  -40.0    7.0   25.0"
      ]
     },
     "execution_count": 4,
     "metadata": {},
     "output_type": "execute_result"
    }
   ],
   "source": [
    "# 4) use the head() function to check your data\n",
    "df.head()"
   ]
  },
  {
   "cell_type": "code",
   "execution_count": 5,
   "metadata": {},
   "outputs": [
    {
     "data": {
      "text/html": [
       "<div>\n",
       "<style scoped>\n",
       "    .dataframe tbody tr th:only-of-type {\n",
       "        vertical-align: middle;\n",
       "    }\n",
       "\n",
       "    .dataframe tbody tr th {\n",
       "        vertical-align: top;\n",
       "    }\n",
       "\n",
       "    .dataframe thead th {\n",
       "        text-align: right;\n",
       "    }\n",
       "</style>\n",
       "<table border=\"1\" class=\"dataframe\">\n",
       "  <thead>\n",
       "    <tr style=\"text-align: right;\">\n",
       "      <th></th>\n",
       "      <th>tags</th>\n",
       "      <th>real time</th>\n",
       "      <th>unix time</th>\n",
       "      <th>BVP</th>\n",
       "      <th>HR</th>\n",
       "      <th>EDA</th>\n",
       "      <th>TEMP</th>\n",
       "      <th>ACC_x</th>\n",
       "      <th>ACC_y</th>\n",
       "      <th>ACC_z</th>\n",
       "    </tr>\n",
       "  </thead>\n",
       "  <tbody>\n",
       "    <tr>\n",
       "      <th>333871</th>\n",
       "      <td>2.0</td>\n",
       "      <td>9/11/18 09:55</td>\n",
       "      <td>1.536674e+09</td>\n",
       "      <td>-2.74</td>\n",
       "      <td>NaN</td>\n",
       "      <td>NaN</td>\n",
       "      <td>NaN</td>\n",
       "      <td>NaN</td>\n",
       "      <td>NaN</td>\n",
       "      <td>NaN</td>\n",
       "    </tr>\n",
       "    <tr>\n",
       "      <th>333872</th>\n",
       "      <td>2.0</td>\n",
       "      <td>9/11/18 09:55</td>\n",
       "      <td>1.536674e+09</td>\n",
       "      <td>-2.11</td>\n",
       "      <td>NaN</td>\n",
       "      <td>NaN</td>\n",
       "      <td>NaN</td>\n",
       "      <td>-43.0</td>\n",
       "      <td>15.0</td>\n",
       "      <td>44.0</td>\n",
       "    </tr>\n",
       "    <tr>\n",
       "      <th>333873</th>\n",
       "      <td>2.0</td>\n",
       "      <td>9/11/18 09:55</td>\n",
       "      <td>1.536674e+09</td>\n",
       "      <td>-1.64</td>\n",
       "      <td>NaN</td>\n",
       "      <td>NaN</td>\n",
       "      <td>NaN</td>\n",
       "      <td>NaN</td>\n",
       "      <td>NaN</td>\n",
       "      <td>NaN</td>\n",
       "    </tr>\n",
       "    <tr>\n",
       "      <th>333874</th>\n",
       "      <td>2.0</td>\n",
       "      <td>9/11/18 09:55</td>\n",
       "      <td>1.536674e+09</td>\n",
       "      <td>-1.48</td>\n",
       "      <td>NaN</td>\n",
       "      <td>NaN</td>\n",
       "      <td>NaN</td>\n",
       "      <td>-42.0</td>\n",
       "      <td>15.0</td>\n",
       "      <td>44.0</td>\n",
       "    </tr>\n",
       "    <tr>\n",
       "      <th>333875</th>\n",
       "      <td>NaN</td>\n",
       "      <td>NaN</td>\n",
       "      <td>NaN</td>\n",
       "      <td>-1.66</td>\n",
       "      <td>NaN</td>\n",
       "      <td>NaN</td>\n",
       "      <td>NaN</td>\n",
       "      <td>NaN</td>\n",
       "      <td>NaN</td>\n",
       "      <td>NaN</td>\n",
       "    </tr>\n",
       "  </tbody>\n",
       "</table>\n",
       "</div>"
      ],
      "text/plain": [
       "        tags      real time     unix time   BVP  HR  EDA  TEMP  ACC_x  ACC_y  \\\n",
       "333871   2.0  9/11/18 09:55  1.536674e+09 -2.74 NaN  NaN   NaN    NaN    NaN   \n",
       "333872   2.0  9/11/18 09:55  1.536674e+09 -2.11 NaN  NaN   NaN  -43.0   15.0   \n",
       "333873   2.0  9/11/18 09:55  1.536674e+09 -1.64 NaN  NaN   NaN    NaN    NaN   \n",
       "333874   2.0  9/11/18 09:55  1.536674e+09 -1.48 NaN  NaN   NaN  -42.0   15.0   \n",
       "333875   NaN            NaN           NaN -1.66 NaN  NaN   NaN    NaN    NaN   \n",
       "\n",
       "        ACC_z  \n",
       "333871    NaN  \n",
       "333872   44.0  \n",
       "333873    NaN  \n",
       "333874   44.0  \n",
       "333875    NaN  "
      ]
     },
     "execution_count": 5,
     "metadata": {},
     "output_type": "execute_result"
    }
   ],
   "source": [
    "# 5) use the tail() function on your dataframe. How many rows do you have?\n",
    "df.tail()"
   ]
  },
  {
   "cell_type": "code",
   "execution_count": 6,
   "metadata": {},
   "outputs": [
    {
     "name": "stdout",
     "output_type": "stream",
     "text": [
      "<class 'pandas.core.frame.DataFrame'>\n",
      "RangeIndex: 333876 entries, 0 to 333875\n",
      "Data columns (total 10 columns):\n",
      "tags         333875 non-null float64\n",
      "real time    333575 non-null object\n",
      "unix time    333875 non-null float64\n",
      "BVP          333575 non-null float64\n",
      "HR           5203 non-null float64\n",
      "EDA          20849 non-null float64\n",
      "TEMP         20848 non-null float64\n",
      "ACC_x        166788 non-null float64\n",
      "ACC_y        166788 non-null float64\n",
      "ACC_z        166788 non-null float64\n",
      "dtypes: float64(9), object(1)\n",
      "memory usage: 25.5+ MB\n"
     ]
    }
   ],
   "source": [
    "# 6) use the info() function to inspect your data:\n",
    "df.info()"
   ]
  },
  {
   "cell_type": "code",
   "execution_count": 7,
   "metadata": {},
   "outputs": [
    {
     "data": {
      "text/plain": [
       "0    84.03\n",
       "dtype: float64"
      ]
     },
     "execution_count": 7,
     "metadata": {},
     "output_type": "execute_result"
    }
   ],
   "source": [
    "# 7) knowing that BVP is collected 64 times per second (i.e., 64Hz),\n",
    "# what can you tell of the sampling frequency of the other measures?\n",
    "df.HR.mode()"
   ]
  },
  {
   "cell_type": "code",
   "execution_count": 8,
   "metadata": {},
   "outputs": [
    {
     "name": "stdout",
     "output_type": "stream",
     "text": [
      "0.9982522671063478\n",
      "4.000107921756727\n"
     ]
    }
   ],
   "source": [
    "HR_rate_1 = (5203 / 333575 * 64)\n",
    "print(HR_rate_1)\n",
    "\n",
    "EDA_rate_1 = (20849 / 333575 * 64)\n",
    "print(EDA_rate_1)\n",
    "\n",
    "HR_rate_2 = 333575 / 5203"
   ]
  },
  {
   "cell_type": "code",
   "execution_count": 9,
   "metadata": {},
   "outputs": [
    {
     "name": "stdout",
     "output_type": "stream",
     "text": [
      "64.11205073995772\n",
      "16.00033576362241\n"
     ]
    }
   ],
   "source": [
    "#Answer in the class\n",
    "HR_rate_2 = 333575 / 5203\n",
    "print(HR_rate_2)\n",
    "\n",
    "TEMP_frequency = 333575 / 20848\n",
    "print(TEMP_frequency)"
   ]
  },
  {
   "cell_type": "markdown",
   "metadata": {},
   "source": [
    "# Plotting"
   ]
  },
  {
   "cell_type": "markdown",
   "metadata": {},
   "source": [
    "Concepts: \n",
    "* plot, subplot, line plots, scatter, box plots, hist, ...\n",
    "* mean, median, quantiles, STD, etc. \n",
    "* separate and summarize"
   ]
  },
  {
   "cell_type": "code",
   "execution_count": 10,
   "metadata": {},
   "outputs": [],
   "source": [
    "# 8) make sure you're plotting your graphs inline\n",
    "# Hint: https://stackoverflow.com/questions/19410042/how-to-make-ipython-notebook-matplotlib-plot-inline\n",
    "%matplotlib inline\n",
    "\n",
    "import matplotlib\n",
    "import numpy as np\n",
    "import matplotlib.pyplot as plt"
   ]
  },
  {
   "cell_type": "markdown",
   "metadata": {},
   "source": [
    "### Let's work on the heart rate (HR) data first"
   ]
  },
  {
   "cell_type": "markdown",
   "metadata": {},
   "source": [
    "In this section we are going to produce various graphs to inspect Bertrand's heart rate data. "
   ]
  },
  {
   "cell_type": "code",
   "execution_count": 11,
   "metadata": {},
   "outputs": [
    {
     "data": {
      "text/plain": [
       "<matplotlib.axes._subplots.AxesSubplot at 0x10808ef28>"
      ]
     },
     "execution_count": 11,
     "metadata": {},
     "output_type": "execute_result"
    },
    {
     "data": {
      "image/png": "[encoded data removed]",
      "text/plain": [
       "<matplotlib.figure.Figure at 0x102e18e48>"
      ]
     },
     "metadata": {},
     "output_type": "display_data"
    }
   ],
   "source": [
    "# 9) produce a histogram of the heart rate data; what can you say from it?\n",
    "\n",
    "\n",
    "df.HR.plot(kind='hist')"
   ]
  },
  {
   "cell_type": "code",
   "execution_count": 12,
   "metadata": {},
   "outputs": [
    {
     "data": {
      "text/plain": [
       "<matplotlib.axes._subplots.AxesSubplot at 0x10808ee80>"
      ]
     },
     "execution_count": 12,
     "metadata": {},
     "output_type": "execute_result"
    },
    {
     "data": {
      "image/png": "[encoded data removed]",
      "text/plain": [
       "<matplotlib.figure.Figure at 0x1080d2908>"
      ]
     },
     "metadata": {},
     "output_type": "display_data"
    }
   ],
   "source": [
    "df['HR'].hist()"
   ]
  },
  {
   "cell_type": "code",
   "execution_count": 13,
   "metadata": {},
   "outputs": [
    {
     "data": {
      "text/plain": [
       "<matplotlib.axes._subplots.AxesSubplot at 0x1093a5ef0>"
      ]
     },
     "execution_count": 13,
     "metadata": {},
     "output_type": "execute_result"
    },
    {
     "data": {
      "image/png": "[encoded data removed]",
      "text/plain": [
       "<matplotlib.figure.Figure at 0x108ab1198>"
      ]
     },
     "metadata": {},
     "output_type": "display_data"
    }
   ],
   "source": [
    "# 10) Try to plot the values over time (e.g., use the real time for the x axis):\n",
    "df.plot(x='real time',y='HR')"
   ]
  },
  {
   "cell_type": "markdown",
   "metadata": {},
   "source": [
    "11) What happened? Come up with 2-3 reasons why this didn't work before you move on to the next question:\n",
    "- reason 1: Too many time values given the size of the chart\n",
    "- reason 2: The range of HR values might not fit the y axis\n",
    "- reason 3: They could be stored over different time periods.\n",
    "- reason 4: we didn't filter out missing values. \n",
    "- reason 5: real time is a string.\n",
    "- reason 6: there is so much data (HR) per real time. There is not enough space to plot HR data."
   ]
  },
  {
   "cell_type": "markdown",
   "metadata": {},
   "source": [
    "After you've anwered the question above, feel free to look at this hint and try to fix your dataframe: https://stackoverflow.com/questions/22551403/python-pandas-filtering-out-nan-from-a-data-selection-of-a-column-of-strings/22553757"
   ]
  },
  {
   "cell_type": "code",
   "execution_count": 14,
   "metadata": {},
   "outputs": [
    {
     "data": {
      "text/html": [
       "<div>\n",
       "<style scoped>\n",
       "    .dataframe tbody tr th:only-of-type {\n",
       "        vertical-align: middle;\n",
       "    }\n",
       "\n",
       "    .dataframe tbody tr th {\n",
       "        vertical-align: top;\n",
       "    }\n",
       "\n",
       "    .dataframe thead th {\n",
       "        text-align: right;\n",
       "    }\n",
       "</style>\n",
       "<table border=\"1\" class=\"dataframe\">\n",
       "  <thead>\n",
       "    <tr style=\"text-align: right;\">\n",
       "      <th></th>\n",
       "      <th>tags</th>\n",
       "      <th>real time</th>\n",
       "      <th>unix time</th>\n",
       "      <th>BVP</th>\n",
       "      <th>HR</th>\n",
       "      <th>EDA</th>\n",
       "      <th>TEMP</th>\n",
       "      <th>ACC_x</th>\n",
       "      <th>ACC_y</th>\n",
       "      <th>ACC_z</th>\n",
       "    </tr>\n",
       "  </thead>\n",
       "  <tbody>\n",
       "    <tr>\n",
       "      <th>640</th>\n",
       "      <td>0.0</td>\n",
       "      <td>9/11/18 08:28</td>\n",
       "      <td>1.536669e+09</td>\n",
       "      <td>-79.05</td>\n",
       "      <td>72.00</td>\n",
       "      <td>1.059777</td>\n",
       "      <td>33.31</td>\n",
       "      <td>-13.0</td>\n",
       "      <td>65.0</td>\n",
       "      <td>-24.0</td>\n",
       "    </tr>\n",
       "    <tr>\n",
       "      <th>704</th>\n",
       "      <td>0.0</td>\n",
       "      <td>9/11/18 08:28</td>\n",
       "      <td>1.536669e+09</td>\n",
       "      <td>218.11</td>\n",
       "      <td>71.50</td>\n",
       "      <td>1.125105</td>\n",
       "      <td>33.31</td>\n",
       "      <td>-35.0</td>\n",
       "      <td>-7.0</td>\n",
       "      <td>34.0</td>\n",
       "    </tr>\n",
       "    <tr>\n",
       "      <th>768</th>\n",
       "      <td>0.0</td>\n",
       "      <td>9/11/18 08:28</td>\n",
       "      <td>1.536669e+09</td>\n",
       "      <td>-20.02</td>\n",
       "      <td>65.00</td>\n",
       "      <td>1.501703</td>\n",
       "      <td>33.31</td>\n",
       "      <td>-40.0</td>\n",
       "      <td>-12.0</td>\n",
       "      <td>34.0</td>\n",
       "    </tr>\n",
       "    <tr>\n",
       "      <th>832</th>\n",
       "      <td>0.0</td>\n",
       "      <td>9/11/18 08:28</td>\n",
       "      <td>1.536669e+09</td>\n",
       "      <td>76.70</td>\n",
       "      <td>92.25</td>\n",
       "      <td>1.204524</td>\n",
       "      <td>33.31</td>\n",
       "      <td>-31.0</td>\n",
       "      <td>13.0</td>\n",
       "      <td>46.0</td>\n",
       "    </tr>\n",
       "    <tr>\n",
       "      <th>896</th>\n",
       "      <td>0.0</td>\n",
       "      <td>9/11/18 08:28</td>\n",
       "      <td>1.536669e+09</td>\n",
       "      <td>71.85</td>\n",
       "      <td>87.60</td>\n",
       "      <td>1.184028</td>\n",
       "      <td>33.31</td>\n",
       "      <td>-38.0</td>\n",
       "      <td>8.0</td>\n",
       "      <td>51.0</td>\n",
       "    </tr>\n",
       "  </tbody>\n",
       "</table>\n",
       "</div>"
      ],
      "text/plain": [
       "     tags      real time     unix time     BVP     HR       EDA   TEMP  ACC_x  \\\n",
       "640   0.0  9/11/18 08:28  1.536669e+09  -79.05  72.00  1.059777  33.31  -13.0   \n",
       "704   0.0  9/11/18 08:28  1.536669e+09  218.11  71.50  1.125105  33.31  -35.0   \n",
       "768   0.0  9/11/18 08:28  1.536669e+09  -20.02  65.00  1.501703  33.31  -40.0   \n",
       "832   0.0  9/11/18 08:28  1.536669e+09   76.70  92.25  1.204524  33.31  -31.0   \n",
       "896   0.0  9/11/18 08:28  1.536669e+09   71.85  87.60  1.184028  33.31  -38.0   \n",
       "\n",
       "     ACC_y  ACC_z  \n",
       "640   65.0  -24.0  \n",
       "704   -7.0   34.0  \n",
       "768  -12.0   34.0  \n",
       "832   13.0   46.0  \n",
       "896    8.0   51.0  "
      ]
     },
     "execution_count": 14,
     "metadata": {},
     "output_type": "execute_result"
    }
   ],
   "source": [
    "# 12) Fix your dataframe using the link above: \n",
    "df_clean = df[df['HR'].notnull()]\n",
    "df_clean.head()"
   ]
  },
  {
   "cell_type": "code",
   "execution_count": 17,
   "metadata": {},
   "outputs": [
    {
     "data": {
      "text/html": [
       "<div>\n",
       "<style scoped>\n",
       "    .dataframe tbody tr th:only-of-type {\n",
       "        vertical-align: middle;\n",
       "    }\n",
       "\n",
       "    .dataframe tbody tr th {\n",
       "        vertical-align: top;\n",
       "    }\n",
       "\n",
       "    .dataframe thead th {\n",
       "        text-align: right;\n",
       "    }\n",
       "</style>\n",
       "<table border=\"1\" class=\"dataframe\">\n",
       "  <thead>\n",
       "    <tr style=\"text-align: right;\">\n",
       "      <th></th>\n",
       "      <th>tags</th>\n",
       "      <th>real time</th>\n",
       "      <th>unix time</th>\n",
       "      <th>BVP</th>\n",
       "      <th>HR</th>\n",
       "      <th>EDA</th>\n",
       "      <th>TEMP</th>\n",
       "      <th>ACC_x</th>\n",
       "      <th>ACC_y</th>\n",
       "      <th>ACC_z</th>\n",
       "    </tr>\n",
       "  </thead>\n",
       "  <tbody>\n",
       "    <tr>\n",
       "      <th>640</th>\n",
       "      <td>0.0</td>\n",
       "      <td>9/11/18 08:28</td>\n",
       "      <td>1.536669e+09</td>\n",
       "      <td>-79.05</td>\n",
       "      <td>72.00</td>\n",
       "      <td>1.059777</td>\n",
       "      <td>33.31</td>\n",
       "      <td>-13.0</td>\n",
       "      <td>65.0</td>\n",
       "      <td>-24.0</td>\n",
       "    </tr>\n",
       "    <tr>\n",
       "      <th>704</th>\n",
       "      <td>0.0</td>\n",
       "      <td>9/11/18 08:28</td>\n",
       "      <td>1.536669e+09</td>\n",
       "      <td>218.11</td>\n",
       "      <td>71.50</td>\n",
       "      <td>1.125105</td>\n",
       "      <td>33.31</td>\n",
       "      <td>-35.0</td>\n",
       "      <td>-7.0</td>\n",
       "      <td>34.0</td>\n",
       "    </tr>\n",
       "    <tr>\n",
       "      <th>768</th>\n",
       "      <td>0.0</td>\n",
       "      <td>9/11/18 08:28</td>\n",
       "      <td>1.536669e+09</td>\n",
       "      <td>-20.02</td>\n",
       "      <td>65.00</td>\n",
       "      <td>1.501703</td>\n",
       "      <td>33.31</td>\n",
       "      <td>-40.0</td>\n",
       "      <td>-12.0</td>\n",
       "      <td>34.0</td>\n",
       "    </tr>\n",
       "    <tr>\n",
       "      <th>832</th>\n",
       "      <td>0.0</td>\n",
       "      <td>9/11/18 08:28</td>\n",
       "      <td>1.536669e+09</td>\n",
       "      <td>76.70</td>\n",
       "      <td>92.25</td>\n",
       "      <td>1.204524</td>\n",
       "      <td>33.31</td>\n",
       "      <td>-31.0</td>\n",
       "      <td>13.0</td>\n",
       "      <td>46.0</td>\n",
       "    </tr>\n",
       "    <tr>\n",
       "      <th>896</th>\n",
       "      <td>0.0</td>\n",
       "      <td>9/11/18 08:28</td>\n",
       "      <td>1.536669e+09</td>\n",
       "      <td>71.85</td>\n",
       "      <td>87.60</td>\n",
       "      <td>1.184028</td>\n",
       "      <td>33.31</td>\n",
       "      <td>-38.0</td>\n",
       "      <td>8.0</td>\n",
       "      <td>51.0</td>\n",
       "    </tr>\n",
       "  </tbody>\n",
       "</table>\n",
       "</div>"
      ],
      "text/plain": [
       "     tags      real time     unix time     BVP     HR       EDA   TEMP  ACC_x  \\\n",
       "640   0.0  9/11/18 08:28  1.536669e+09  -79.05  72.00  1.059777  33.31  -13.0   \n",
       "704   0.0  9/11/18 08:28  1.536669e+09  218.11  71.50  1.125105  33.31  -35.0   \n",
       "768   0.0  9/11/18 08:28  1.536669e+09  -20.02  65.00  1.501703  33.31  -40.0   \n",
       "832   0.0  9/11/18 08:28  1.536669e+09   76.70  92.25  1.204524  33.31  -31.0   \n",
       "896   0.0  9/11/18 08:28  1.536669e+09   71.85  87.60  1.184028  33.31  -38.0   \n",
       "\n",
       "     ACC_y  ACC_z  \n",
       "640   65.0  -24.0  \n",
       "704   -7.0   34.0  \n",
       "768  -12.0   34.0  \n",
       "832   13.0   46.0  \n",
       "896    8.0   51.0  "
      ]
     },
     "execution_count": 17,
     "metadata": {},
     "output_type": "execute_result"
    }
   ],
   "source": [
    "df_clean = df.dropna()\n",
    "df_clean.head()"
   ]
  },
  {
   "cell_type": "markdown",
   "metadata": {},
   "source": [
    "### Now let's look at the electrodermal activity data (EDA)"
   ]
  },
  {
   "cell_type": "markdown",
   "metadata": {},
   "source": [
    "In this section we are going to produce various graphs to inspect Bertrand's electrodermal data. "
   ]
  },
  {
   "cell_type": "code",
   "execution_count": 16,
   "metadata": {},
   "outputs": [
    {
     "data": {
      "text/plain": [
       "<matplotlib.axes._subplots.AxesSubplot at 0x103e5b0b8>"
      ]
     },
     "execution_count": 16,
     "metadata": {},
     "output_type": "execute_result"
    },
    {
     "data": {
      "image/png": "[encoded data removed]",
      "text/plain": [
       "<matplotlib.figure.Figure at 0x103e4fa20>"
      ]
     },
     "metadata": {},
     "output_type": "display_data"
    }
   ],
   "source": [
    "# 13) produce a line plot to visually inspect the EDA data\n",
    "# Hint: make sure you filter the nonnull data\n",
    "df_clean_EDA = df[df['EDA'].notnull()]\n",
    "df_clean_EDA.plot (x = 'real time', y = 'EDA')"
   ]
  },
  {
   "cell_type": "markdown",
   "metadata": {},
   "source": [
    "Feel free to look at the following page to make sense of the units of the EDA data: \n",
    "* https://support.empatica.com/hc/en-us/articles/203621955-What-should-I-know-to-use-EDA-data-in-my-experiment-"
   ]
  },
  {
   "cell_type": "code",
   "execution_count": 34,
   "metadata": {},
   "outputs": [
    {
     "data": {
      "text/plain": [
       "<matplotlib.text.Text at 0x180d5ec69b0>"
      ]
     },
     "execution_count": 34,
     "metadata": {},
     "output_type": "execute_result"
    },
    {
     "data": {
      "image/png": "[encoded data removed]",
      "text/plain": [
       "<matplotlib.figure.Figure at 0x180d5a2f5c0>"
      ]
     },
     "metadata": {},
     "output_type": "display_data"
    }
   ],
   "source": [
    "# 14) we don't have any labels on the x axis! \n",
    "# convert the 'real time' column into a real date time\n",
    "# Hint: https://campus.datacamp.com/courses/pandas-foundations/time-series-in-pandas?ex=3\n",
    "df_clean_EDA = df[df['EDA'].notnull()]\n",
    "df_clean_EDA.plot (x = 'real time', y = 'EDA')\n",
    "plt.xlabel('Real Time')\n",
    "\n",
    "\n",
    "\n"
   ]
  },
  {
   "cell_type": "code",
   "execution_count": 47,
   "metadata": {},
   "outputs": [
    {
     "ename": "ValueError",
     "evalue": "to assemble mappings requires at least that [year, month, day] be specified: [day,month,year] is missing",
     "output_type": "error",
     "traceback": [
      "\u001b[1;31m---------------------------------------------------------------------------\u001b[0m",
      "\u001b[1;31mValueError\u001b[0m                                Traceback (most recent call last)",
      "\u001b[1;32m<ipython-input-47-f330f85c0a7b>\u001b[0m in \u001b[0;36m<module>\u001b[1;34m()\u001b[0m\n\u001b[0;32m      1\u001b[0m \u001b[0mtime_format\u001b[0m \u001b[1;33m=\u001b[0m \u001b[1;34m'%m/%d/%Y %H:%M'\u001b[0m\u001b[1;33m\u001b[0m\u001b[0m\n\u001b[1;32m----> 2\u001b[1;33m \u001b[0mreal_date_time\u001b[0m \u001b[1;33m=\u001b[0m \u001b[0mpd\u001b[0m\u001b[1;33m.\u001b[0m\u001b[0mto_datetime\u001b[0m\u001b[1;33m(\u001b[0m\u001b[0mdf\u001b[0m\u001b[1;33m,\u001b[0m \u001b[0mformat\u001b[0m \u001b[1;33m=\u001b[0m \u001b[0mtime_format\u001b[0m\u001b[1;33m)\u001b[0m\u001b[1;33m\u001b[0m\u001b[0m\n\u001b[0m\u001b[0;32m      3\u001b[0m \u001b[1;33m\u001b[0m\u001b[0m\n",
      "\u001b[1;32mC:\\Anaconda3\\lib\\site-packages\\pandas\\core\\tools\\datetimes.py\u001b[0m in \u001b[0;36mto_datetime\u001b[1;34m(arg, errors, dayfirst, yearfirst, utc, box, format, exact, unit, infer_datetime_format, origin)\u001b[0m\n\u001b[0;32m    510\u001b[0m         \u001b[0mresult\u001b[0m \u001b[1;33m=\u001b[0m \u001b[0mSeries\u001b[0m\u001b[1;33m(\u001b[0m\u001b[0mvalues\u001b[0m\u001b[1;33m,\u001b[0m \u001b[0mindex\u001b[0m\u001b[1;33m=\u001b[0m\u001b[0marg\u001b[0m\u001b[1;33m.\u001b[0m\u001b[0mindex\u001b[0m\u001b[1;33m,\u001b[0m \u001b[0mname\u001b[0m\u001b[1;33m=\u001b[0m\u001b[0marg\u001b[0m\u001b[1;33m.\u001b[0m\u001b[0mname\u001b[0m\u001b[1;33m)\u001b[0m\u001b[1;33m\u001b[0m\u001b[0m\n\u001b[0;32m    511\u001b[0m     \u001b[1;32melif\u001b[0m \u001b[0misinstance\u001b[0m\u001b[1;33m(\u001b[0m\u001b[0marg\u001b[0m\u001b[1;33m,\u001b[0m \u001b[1;33m(\u001b[0m\u001b[0mABCDataFrame\u001b[0m\u001b[1;33m,\u001b[0m \u001b[0mMutableMapping\u001b[0m\u001b[1;33m)\u001b[0m\u001b[1;33m)\u001b[0m\u001b[1;33m:\u001b[0m\u001b[1;33m\u001b[0m\u001b[0m\n\u001b[1;32m--> 512\u001b[1;33m         \u001b[0mresult\u001b[0m \u001b[1;33m=\u001b[0m \u001b[0m_assemble_from_unit_mappings\u001b[0m\u001b[1;33m(\u001b[0m\u001b[0marg\u001b[0m\u001b[1;33m,\u001b[0m \u001b[0merrors\u001b[0m\u001b[1;33m=\u001b[0m\u001b[0merrors\u001b[0m\u001b[1;33m)\u001b[0m\u001b[1;33m\u001b[0m\u001b[0m\n\u001b[0m\u001b[0;32m    513\u001b[0m     \u001b[1;32melif\u001b[0m \u001b[0misinstance\u001b[0m\u001b[1;33m(\u001b[0m\u001b[0marg\u001b[0m\u001b[1;33m,\u001b[0m \u001b[0mABCIndexClass\u001b[0m\u001b[1;33m)\u001b[0m\u001b[1;33m:\u001b[0m\u001b[1;33m\u001b[0m\u001b[0m\n\u001b[0;32m    514\u001b[0m         \u001b[0mresult\u001b[0m \u001b[1;33m=\u001b[0m \u001b[0m_convert_listlike\u001b[0m\u001b[1;33m(\u001b[0m\u001b[0marg\u001b[0m\u001b[1;33m,\u001b[0m \u001b[0mbox\u001b[0m\u001b[1;33m,\u001b[0m \u001b[0mformat\u001b[0m\u001b[1;33m,\u001b[0m \u001b[0mname\u001b[0m\u001b[1;33m=\u001b[0m\u001b[0marg\u001b[0m\u001b[1;33m.\u001b[0m\u001b[0mname\u001b[0m\u001b[1;33m)\u001b[0m\u001b[1;33m\u001b[0m\u001b[0m\n",
      "\u001b[1;32mC:\\Anaconda3\\lib\\site-packages\\pandas\\core\\tools\\datetimes.py\u001b[0m in \u001b[0;36m_assemble_from_unit_mappings\u001b[1;34m(arg, errors)\u001b[0m\n\u001b[0;32m    589\u001b[0m         raise ValueError(\"to assemble mappings requires at \"\n\u001b[0;32m    590\u001b[0m                          \u001b[1;34m\"least that [year, month, day] be specified: \"\u001b[0m\u001b[1;33m\u001b[0m\u001b[0m\n\u001b[1;32m--> 591\u001b[1;33m                          \"[{0}] is missing\".format(','.join(req)))\n\u001b[0m\u001b[0;32m    592\u001b[0m \u001b[1;33m\u001b[0m\u001b[0m\n\u001b[0;32m    593\u001b[0m     \u001b[1;31m# keys we don't recognize\u001b[0m\u001b[1;33m\u001b[0m\u001b[1;33m\u001b[0m\u001b[0m\n",
      "\u001b[1;31mValueError\u001b[0m: to assemble mappings requires at least that [year, month, day] be specified: [day,month,year] is missing"
     ]
    }
   ],
   "source": [
    "time_format = '%m/%d/%Y %H:%M'\n",
    "real_date_time = pd.to_datetime(df, format = time_format)\n",
    "\n"
   ]
  },
  {
   "cell_type": "code",
   "execution_count": 12,
   "metadata": {
    "collapsed": true
   },
   "outputs": [],
   "source": [
    "# 15) print the mean and median values of the EDA data; explain how they are different\n"
   ]
  },
  {
   "cell_type": "code",
   "execution_count": 13,
   "metadata": {
    "collapsed": true
   },
   "outputs": [],
   "source": [
    "# 16) plot a histogram of the EDA values; does that confirm your interpretation above?\n"
   ]
  },
  {
   "cell_type": "markdown",
   "metadata": {},
   "source": [
    "### Combining EDA and HR data on the same graph"
   ]
  },
  {
   "cell_type": "markdown",
   "metadata": {},
   "source": [
    "In this section we are going to produce various graphs to inspect both the HR and EDA data."
   ]
  },
  {
   "cell_type": "code",
   "execution_count": 14,
   "metadata": {
    "collapsed": true
   },
   "outputs": [],
   "source": [
    "# 17) filter both the EDA and HR values to keep the non-null rows:\n"
   ]
  },
  {
   "cell_type": "code",
   "execution_count": 15,
   "metadata": {
    "collapsed": true
   },
   "outputs": [],
   "source": [
    "# 18) plot EDA and HR on two different graphs using subplots\n",
    "# hint: https://stackoverflow.com/questions/31726643/how-do-i-get-multiple-subplots-in-matplotlib\n"
   ]
  },
  {
   "cell_type": "code",
   "execution_count": 16,
   "metadata": {
    "collapsed": true
   },
   "outputs": [],
   "source": [
    "# 19) plot EDA and HR on the same graph; what went wrong?\n"
   ]
  },
  {
   "cell_type": "code",
   "execution_count": 17,
   "metadata": {
    "collapsed": true
   },
   "outputs": [],
   "source": [
    "# 20) normalize the HR and EDA columns using your favorite normalization strategy\n",
    "# Hint: https://stackoverflow.com/questions/12525722/normalize-data-in-pandas\n"
   ]
  },
  {
   "cell_type": "code",
   "execution_count": 18,
   "metadata": {
    "collapsed": true
   },
   "outputs": [],
   "source": [
    "# 21) plot EDA and HR on the same graph; does the result look better?\n"
   ]
  },
  {
   "cell_type": "code",
   "execution_count": 19,
   "metadata": {
    "collapsed": true
   },
   "outputs": [],
   "source": [
    "# 22) what can you observe from the graph? Does there seem to be an agreement between HR and EDA?\n"
   ]
  },
  {
   "cell_type": "markdown",
   "metadata": {},
   "source": [
    "**IN-CLASS DISCUSSION**: why do we normalize values? When do we want to normalize them?"
   ]
  },
  {
   "cell_type": "markdown",
   "metadata": {},
   "source": [
    "# Time series"
   ]
  },
  {
   "cell_type": "markdown",
   "metadata": {},
   "source": [
    "Concepts:\n",
    "* indexing, slicing, datetimeIndex\n",
    "* resampling, rolling mean\n",
    "* method chaining and filtering\n",
    "* plotting time series"
   ]
  },
  {
   "cell_type": "markdown",
   "metadata": {},
   "source": [
    "In this section, we are going to work with some built-in function of pandas to work with time series. More specifically, we are going to downsample our data and use a rolling window to generate additional graphs."
   ]
  },
  {
   "cell_type": "code",
   "execution_count": 53,
   "metadata": {},
   "outputs": [
    {
     "data": {
      "text/html": [
       "<div>\n",
       "<style scoped>\n",
       "    .dataframe tbody tr th:only-of-type {\n",
       "        vertical-align: middle;\n",
       "    }\n",
       "\n",
       "    .dataframe tbody tr th {\n",
       "        vertical-align: top;\n",
       "    }\n",
       "\n",
       "    .dataframe thead th {\n",
       "        text-align: right;\n",
       "    }\n",
       "</style>\n",
       "<table border=\"1\" class=\"dataframe\">\n",
       "  <thead>\n",
       "    <tr style=\"text-align: right;\">\n",
       "      <th></th>\n",
       "      <th>tags</th>\n",
       "      <th>unix time</th>\n",
       "      <th>BVP</th>\n",
       "      <th>HR</th>\n",
       "      <th>EDA</th>\n",
       "      <th>TEMP</th>\n",
       "      <th>ACC_x</th>\n",
       "      <th>ACC_y</th>\n",
       "      <th>ACC_z</th>\n",
       "    </tr>\n",
       "    <tr>\n",
       "      <th>real time</th>\n",
       "      <th></th>\n",
       "      <th></th>\n",
       "      <th></th>\n",
       "      <th></th>\n",
       "      <th></th>\n",
       "      <th></th>\n",
       "      <th></th>\n",
       "      <th></th>\n",
       "      <th></th>\n",
       "    </tr>\n",
       "  </thead>\n",
       "  <tbody>\n",
       "    <tr>\n",
       "      <th>2018-11-09 08:28:00</th>\n",
       "      <td>0.0</td>\n",
       "      <td>1.536669e+09</td>\n",
       "      <td>0.00</td>\n",
       "      <td>NaN</td>\n",
       "      <td>0.000000</td>\n",
       "      <td>33.31</td>\n",
       "      <td>-50.0</td>\n",
       "      <td>7.0</td>\n",
       "      <td>28.0</td>\n",
       "    </tr>\n",
       "    <tr>\n",
       "      <th>2018-11-09 08:28:00</th>\n",
       "      <td>0.0</td>\n",
       "      <td>1.536669e+09</td>\n",
       "      <td>-0.05</td>\n",
       "      <td>NaN</td>\n",
       "      <td>0.836457</td>\n",
       "      <td>33.31</td>\n",
       "      <td>-32.0</td>\n",
       "      <td>64.0</td>\n",
       "      <td>27.0</td>\n",
       "    </tr>\n",
       "    <tr>\n",
       "      <th>2018-11-09 08:28:00</th>\n",
       "      <td>0.0</td>\n",
       "      <td>1.536669e+09</td>\n",
       "      <td>6.20</td>\n",
       "      <td>NaN</td>\n",
       "      <td>1.183860</td>\n",
       "      <td>33.31</td>\n",
       "      <td>-14.0</td>\n",
       "      <td>57.0</td>\n",
       "      <td>50.0</td>\n",
       "    </tr>\n",
       "    <tr>\n",
       "      <th>2018-11-09 08:28:00</th>\n",
       "      <td>0.0</td>\n",
       "      <td>1.536669e+09</td>\n",
       "      <td>22.90</td>\n",
       "      <td>NaN</td>\n",
       "      <td>1.167277</td>\n",
       "      <td>33.31</td>\n",
       "      <td>-22.0</td>\n",
       "      <td>52.0</td>\n",
       "      <td>24.0</td>\n",
       "    </tr>\n",
       "    <tr>\n",
       "      <th>2018-11-09 08:28:00</th>\n",
       "      <td>0.0</td>\n",
       "      <td>1.536669e+09</td>\n",
       "      <td>93.76</td>\n",
       "      <td>NaN</td>\n",
       "      <td>1.278719</td>\n",
       "      <td>33.31</td>\n",
       "      <td>-17.0</td>\n",
       "      <td>53.0</td>\n",
       "      <td>27.0</td>\n",
       "    </tr>\n",
       "  </tbody>\n",
       "</table>\n",
       "</div>"
      ],
      "text/plain": [
       "                     tags     unix time    BVP  HR       EDA   TEMP  ACC_x  \\\n",
       "real time                                                                    \n",
       "2018-11-09 08:28:00   0.0  1.536669e+09   0.00 NaN  0.000000  33.31  -50.0   \n",
       "2018-11-09 08:28:00   0.0  1.536669e+09  -0.05 NaN  0.836457  33.31  -32.0   \n",
       "2018-11-09 08:28:00   0.0  1.536669e+09   6.20 NaN  1.183860  33.31  -14.0   \n",
       "2018-11-09 08:28:00   0.0  1.536669e+09  22.90 NaN  1.167277  33.31  -22.0   \n",
       "2018-11-09 08:28:00   0.0  1.536669e+09  93.76 NaN  1.278719  33.31  -17.0   \n",
       "\n",
       "                     ACC_y  ACC_z  \n",
       "real time                          \n",
       "2018-11-09 08:28:00    7.0   28.0  \n",
       "2018-11-09 08:28:00   64.0   27.0  \n",
       "2018-11-09 08:28:00   57.0   50.0  \n",
       "2018-11-09 08:28:00   52.0   24.0  \n",
       "2018-11-09 08:28:00   53.0   27.0  "
      ]
     },
     "execution_count": 53,
     "metadata": {},
     "output_type": "execute_result"
    }
   ],
   "source": [
    "# let's reimport our data to make sure it's clean\n",
    "df = pd.read_csv('Bertrand-physiodata.csv')\n",
    "filtered_df = df[df['EDA'].notnull() & df['EDA'].notnull()].copy()\n",
    "\n",
    "# make sure that you are converting the real time column into a datetime\n",
    "filtered_df['real time'] = pd.to_datetime(filtered_df['real time'], format='%d/%m/%y %H:%M')\n",
    "filtered_df = filtered_df.set_index('real time')\n",
    "\n",
    "filtered_df.head()"
   ]
  },
  {
   "cell_type": "markdown",
   "metadata": {},
   "source": [
    "### Down sampling"
   ]
  },
  {
   "cell_type": "code",
   "execution_count": 20,
   "metadata": {
    "collapsed": true
   },
   "outputs": [],
   "source": [
    "# 23) Use the instruction from datacamp to resample your data in 60 seconds windows and plot the result\n",
    "# Hint: https://campus.datacamp.com/courses/pandas-foundations/time-series-in-pandas?ex=7\n"
   ]
  },
  {
   "cell_type": "code",
   "execution_count": 21,
   "metadata": {
    "collapsed": true
   },
   "outputs": [],
   "source": [
    "# 24) do the same thing, but this time using the rolling() function in a 60sec window\n"
   ]
  },
  {
   "cell_type": "code",
   "execution_count": null,
   "metadata": {
    "collapsed": true
   },
   "outputs": [],
   "source": [
    "# 25) What is the difference between rolling() and resample()? Why do the graphs look different?"
   ]
  },
  {
   "cell_type": "markdown",
   "metadata": {},
   "source": [
    "## Correlations"
   ]
  },
  {
   "cell_type": "markdown",
   "metadata": {},
   "source": [
    "In this section we're going to keep exploring the relationship between heart rate data and electrodermal activity. We are going to do this visually (with a scatter plot first) and then using a statistical test (Pearson's correlation). "
   ]
  },
  {
   "cell_type": "code",
   "execution_count": 22,
   "metadata": {
    "collapsed": true
   },
   "outputs": [],
   "source": [
    "# 26) create a scatter plot between HR and EDA:\n"
   ]
  },
  {
   "cell_type": "code",
   "execution_count": 23,
   "metadata": {
    "collapsed": true
   },
   "outputs": [],
   "source": [
    "# 27) compute pearson's correlation between the HR and EDA data\n"
   ]
  },
  {
   "cell_type": "code",
   "execution_count": 24,
   "metadata": {
    "collapsed": true
   },
   "outputs": [],
   "source": [
    "# 29) what can you conclude? Is there a linear relationship between HR and EDA data in this dataset?\n"
   ]
  },
  {
   "cell_type": "code",
   "execution_count": null,
   "metadata": {
    "collapsed": true
   },
   "outputs": [],
   "source": []
  }
 ],
 "metadata": {
  "kernelspec": {
   "display_name": "Python 3",
   "language": "python",
   "name": "python3"
  },
  "language_info": {
   "codemirror_mode": {
    "name": "ipython",
    "version": 3
   },
   "file_extension": ".py",
   "mimetype": "text/x-python",
   "name": "python",
   "nbconvert_exporter": "python",
   "pygments_lexer": "ipython3",
   "version": "3.6.4"
  },
  "toc": {
   "base_numbering": 1,
   "nav_menu": {},
   "number_sections": true,
   "sideBar": true,
   "skip_h1_title": false,
   "title_cell": "Table of Contents",
   "title_sidebar": "Contents",
   "toc_cell": false,
   "toc_position": {},
   "toc_section_display": true,
   "toc_window_display": false
  },
  "varInspector": {
   "cols": {
    "lenName": 16,
    "lenType": 16,
    "lenVar": 40
   },
   "kernels_config": {
    "python": {
     "delete_cmd_postfix": "",
     "delete_cmd_prefix": "del ",
     "library": "var_list.py",
     "varRefreshCmd": "print(var_dic_list())"
    },
    "r": {
     "delete_cmd_postfix": ") ",
     "delete_cmd_prefix": "rm(",
     "library": "var_list.r",
     "varRefreshCmd": "cat(var_dic_list()) "
    }
   },
   "types_to_exclude": [
    "module",
    "function",
    "builtin_function_or_method",
    "instance",
    "_Feature"
   ],
   "window_display": false
  }
 },
 "nbformat": 4,
 "nbformat_minor": 2
}
